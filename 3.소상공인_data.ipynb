{
 "cells": [
  {
   "cell_type": "code",
   "execution_count": null,
   "metadata": {
    "ExecuteTime": {
     "end_time": "2019-08-30T23:47:33.012697Z",
     "start_time": "2019-08-30T23:47:32.981213Z"
    }
   },
   "outputs": [],
   "source": [
    "import pandas as pd\n",
    "import numpy as np\n",
    "import seaborn as sns\n",
    "import matplotlib\n",
    "import matplotlib.pyplot as plt\n",
    "import math\n",
    "\n",
    "from matplotlib import font_manager, rc\n",
    "%matplotlib inline\n",
    "\n",
    "import warnings\n",
    "warnings.filterwarnings(action='ignore') # 경고 메시지를 숨길 때\n",
    "\n",
    "plt.rcParams['axes.unicode_minus'] = False\n",
    "\n",
    "plt.rcParams[\"font.family\"] = 'AppleGothic.ttfF'\n",
    "plt.rcParams[\"font.size\"] = 20\n",
    "path = '/Library/Fonts/AppleGothic.ttf'\n",
    "font_name = font_manager.FontProperties(fname=path, size=50).get_name()\n",
    "plt.rc('font', family=font_name)"
   ]
  },
  {
   "cell_type": "code",
   "execution_count": null,
   "metadata": {
    "ExecuteTime": {
     "end_time": "2019-08-30T21:58:28.703406Z",
     "start_time": "2019-08-30T21:57:11.268675Z"
    },
    "scrolled": true
   },
   "outputs": [],
   "source": [
    "data1 = pd.read_csv('소상공인시장진흥공단_상가업소정보_201906_01.csv', engine = 'python', encoding = 'utf-8')\n",
    "data2 = pd.read_csv('소상공인시장진흥공단_상가업소정보_201906_02.csv', engine = 'python', encoding = 'utf-8')\n",
    "data3 = pd.read_csv('소상공인시장진흥공단_상가업소정보_201906_03.csv', engine = 'python', encoding = 'utf-8')\n",
    "data4 = pd.read_csv('소상공인시장진흥공단_상가업소정보_201906_04.csv', engine = 'python', encoding = 'utf-8')\n",
    "\n",
    "data = pd.concat([data1,data2,data3,data4])\n",
    "data.head()"
   ]
  },
  {
   "cell_type": "code",
   "execution_count": null,
   "metadata": {
    "ExecuteTime": {
     "end_time": "2019-08-30T21:57:08.001029Z",
     "start_time": "2019-08-30T21:55:21.956Z"
    },
    "scrolled": true
   },
   "outputs": [],
   "source": [
    "data.info()"
   ]
  },
  {
   "cell_type": "code",
   "execution_count": null,
   "metadata": {
    "ExecuteTime": {
     "end_time": "2019-08-30T19:50:40.550807Z",
     "start_time": "2019-08-30T19:50:38.848281Z"
    }
   },
   "outputs": [],
   "source": [
    "np.unique(data['시도명'])"
   ]
  },
  {
   "cell_type": "code",
   "execution_count": null,
   "metadata": {
    "ExecuteTime": {
     "end_time": "2019-08-30T21:50:46.658731Z",
     "start_time": "2019-08-30T21:50:38.960203Z"
    }
   },
   "outputs": [],
   "source": [
    "data = data[(data['시도명'] == '서울특별시')]\n",
    "np.unique(data['시도명'])"
   ]
  },
  {
   "cell_type": "code",
   "execution_count": null,
   "metadata": {
    "ExecuteTime": {
     "end_time": "2019-08-30T21:50:58.782324Z",
     "start_time": "2019-08-30T21:50:48.885299Z"
    }
   },
   "outputs": [],
   "source": [
    "data.describe()"
   ]
  },
  {
   "cell_type": "code",
   "execution_count": null,
   "metadata": {
    "ExecuteTime": {
     "end_time": "2019-08-30T21:51:02.156368Z",
     "start_time": "2019-08-30T21:51:01.982820Z"
    },
    "scrolled": true
   },
   "outputs": [],
   "source": [
    "data_new = data.loc[:,['상호명', '상권업종대분류명','상권업종중분류명','상권업종소분류명',\n",
    "'시도명','시군구명','행정동명', '지번주소','도로명주소','경도', '위도']]\n",
    "data_new.head()"
   ]
  },
  {
   "cell_type": "code",
   "execution_count": null,
   "metadata": {
    "ExecuteTime": {
     "end_time": "2019-08-30T21:51:07.754334Z",
     "start_time": "2019-08-30T21:51:07.235010Z"
    }
   },
   "outputs": [],
   "source": [
    "data_new.isnull().sum()"
   ]
  },
  {
   "cell_type": "code",
   "execution_count": null,
   "metadata": {
    "ExecuteTime": {
     "end_time": "2019-08-30T21:51:09.793394Z",
     "start_time": "2019-08-30T21:51:09.701865Z"
    }
   },
   "outputs": [],
   "source": [
    "data_new['상권업종대분류명'].value_counts()"
   ]
  },
  {
   "cell_type": "code",
   "execution_count": null,
   "metadata": {
    "ExecuteTime": {
     "end_time": "2019-08-30T23:59:44.574764Z",
     "start_time": "2019-08-30T23:59:44.247869Z"
    }
   },
   "outputs": [],
   "source": [
    "list2 = np.unique(data_new['시군구명'])\n",
    "list2"
   ]
  },
  {
   "cell_type": "code",
   "execution_count": null,
   "metadata": {
    "ExecuteTime": {
     "end_time": "2019-08-31T00:01:04.293906Z",
     "start_time": "2019-08-31T00:01:04.199321Z"
    }
   },
   "outputs": [],
   "source": [
    "sns.distplot(data_new[data_new['시군구명'] == list2[0]]['상권업종대분류명'].values_counts())\n",
    "plt.title(\"상권업종대분류명별 count\")\n",
    "plt.show()"
   ]
  },
  {
   "cell_type": "code",
   "execution_count": null,
   "metadata": {
    "ExecuteTime": {
     "end_time": "2019-08-30T21:53:13.954611Z",
     "start_time": "2019-08-30T21:53:13.634786Z"
    }
   },
   "outputs": [],
   "source": [
    "list = np.unique(data_new['상권업종대분류명'])\n",
    "list"
   ]
  },
  {
   "cell_type": "code",
   "execution_count": null,
   "metadata": {
    "ExecuteTime": {
     "end_time": "2019-08-30T21:53:14.883640Z",
     "start_time": "2019-08-30T21:53:14.549356Z"
    }
   },
   "outputs": [],
   "source": [
    "len(np.unique(data_new['상권업종중분류명']))"
   ]
  },
  {
   "cell_type": "code",
   "execution_count": null,
   "metadata": {
    "ExecuteTime": {
     "end_time": "2019-08-30T21:53:17.583823Z",
     "start_time": "2019-08-30T21:53:15.947363Z"
    }
   },
   "outputs": [],
   "source": [
    "list = np.unique(data_new['상권업종대분류명'])\n",
    "\n",
    "a = data_new[data_new['상권업종대분류명'] == list[0]]\n",
    "b = data_new[data_new['상권업종대분류명'] == list[1]]\n",
    "c = data_new[data_new['상권업종대분류명'] == list[2]]\n",
    "d = data_new[data_new['상권업종대분류명'] == list[3]]\n",
    "e = data_new[data_new['상권업종대분류명'] == list[4]]\n",
    "f = data_new[data_new['상권업종대분류명'] == list[5]]\n",
    "g = data_new[data_new['상권업종대분류명'] == list[6]]\n",
    "h = data_new[data_new['상권업종대분류명'] == list[7]]\n",
    "i = data_new[data_new['상권업종대분류명'] == list[8]]\n"
   ]
  },
  {
   "cell_type": "code",
   "execution_count": null,
   "metadata": {
    "ExecuteTime": {
     "end_time": "2019-08-30T21:53:18.831636Z",
     "start_time": "2019-08-30T21:53:18.562056Z"
    }
   },
   "outputs": [],
   "source": [
    "a = a.reset_index()\n",
    "b = b.reset_index()\n",
    "c = c.reset_index()\n",
    "d = d.reset_index()\n",
    "e = e.reset_index()\n",
    "f = f.reset_index()\n",
    "g = g.reset_index()\n",
    "h = h.reset_index()\n",
    "i = i.reset_index()"
   ]
  },
  {
   "cell_type": "code",
   "execution_count": null,
   "metadata": {
    "ExecuteTime": {
     "end_time": "2019-08-30T21:53:22.036229Z",
     "start_time": "2019-08-30T21:53:21.962369Z"
    }
   },
   "outputs": [],
   "source": [
    "a2 = a.loc[:,['상권업종대분류명','위도','경도']]\n",
    "b2 = b.loc[:,['상권업종대분류명','위도','경도']]\n",
    "c2 = c.loc[:,['상권업종대분류명','위도','경도']]\n",
    "d2 = d.loc[:,['상권업종대분류명','위도','경도']]\n",
    "e2 = e.loc[:,['상권업종대분류명','위도','경도']]\n",
    "f2 = f.loc[:,['상권업종대분류명','위도','경도']]\n",
    "g2 = g.loc[:,['상권업종대분류명','위도','경도']]\n",
    "h2 = h.loc[:,['상권업종대분류명','위도','경도']]\n",
    "i2 = i.loc[:,['상권업종대분류명','위도','경도']]\n"
   ]
  },
  {
   "cell_type": "code",
   "execution_count": null,
   "metadata": {
    "ExecuteTime": {
     "end_time": "2019-08-30T21:53:26.815232Z",
     "start_time": "2019-08-30T21:53:23.441334Z"
    }
   },
   "outputs": [],
   "source": [
    "a2.to_csv(\"data_A_경도위도.csv\")\n",
    "b2.to_csv(\"data_B_경도위도.csv\")\n",
    "c2.to_csv(\"data_C_경도위도.csv\")\n",
    "d2.to_csv(\"data_D_경도위도.csv\")\n",
    "e2.to_csv(\"data_E_경도위도.csv\")\n",
    "f2.to_csv(\"data_F_경도위도.csv\")\n",
    "g2.to_csv(\"data_G_경도위도.csv\")\n",
    "h2.to_csv(\"data_H_경도위도.csv\")\n",
    "i2.to_csv(\"data_I_경도위도.csv\")"
   ]
  },
  {
   "cell_type": "code",
   "execution_count": null,
   "metadata": {},
   "outputs": [],
   "source": []
  },
  {
   "cell_type": "code",
   "execution_count": null,
   "metadata": {},
   "outputs": [],
   "source": []
  },
  {
   "cell_type": "code",
   "execution_count": null,
   "metadata": {},
   "outputs": [],
   "source": []
  }
 ],
 "metadata": {
  "kernelspec": {
   "display_name": "Python 3",
   "language": "python",
   "name": "python3"
  },
  "language_info": {
   "codemirror_mode": {
    "name": "ipython",
    "version": 3
   },
   "file_extension": ".py",
   "mimetype": "text/x-python",
   "name": "python",
   "nbconvert_exporter": "python",
   "pygments_lexer": "ipython3",
   "version": "3.6.8"
  }
 },
 "nbformat": 4,
 "nbformat_minor": 2
}
